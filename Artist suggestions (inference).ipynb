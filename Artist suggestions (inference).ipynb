{
 "cells": [
  {
   "cell_type": "code",
   "execution_count": 1,
   "metadata": {},
   "outputs": [
    {
     "name": "stderr",
     "output_type": "stream",
     "text": [
      "C:\\Users\\Alexander\\Anaconda3\\lib\\site-packages\\h5py\\__init__.py:36: FutureWarning: Conversion of the second argument of issubdtype from `float` to `np.floating` is deprecated. In future, it will be treated as `np.float64 == np.dtype(float).type`.\n",
      "  from ._conv import register_converters as _register_converters\n",
      "Using TensorFlow backend.\n"
     ]
    }
   ],
   "source": [
    "import numpy as np\n",
    "import pandas as pd\n",
    "from keras.models import load_model\n",
    "from helper_functions import find_similar"
   ]
  },
  {
   "cell_type": "code",
   "execution_count": 2,
   "metadata": {},
   "outputs": [],
   "source": [
    "tr = pd.read_csv(\"data/csv/tracks_short.csv\")\n",
    "\n",
    "artists = tr.artist.unique()\n",
    "artist_index = {artist: idx for idx, artist in enumerate(artists)}\n",
    "index_artist ={idx: artist for artist, idx in artist_index.items()}\n",
    "\n",
    "model = load_model(\"models/150_embedding.h5\")"
   ]
  },
  {
   "cell_type": "code",
   "execution_count": 4,
   "metadata": {},
   "outputs": [
    {
     "name": "stdout",
     "output_type": "stream",
     "text": [
      "10 artists most similar to Queen\n",
      "Artist: The+Cranberries | Distance: 1.0\n",
      "Artist: Bon+Jovi | Distance: 1.0\n",
      "Artist: Journey | Distance: 1.0\n",
      "Artist: The+Police | Distance: 1.0\n",
      "Artist: R.E.M. | Distance: 1.0\n",
      "Artist: Aerosmith | Distance: 1.0\n",
      "Artist: The+Beatles | Distance: 1.0\n",
      "Artist: U2 | Distance: 1.0\n",
      "Artist: Guns+N%27+Roses | Distance: 1.0\n",
      "Artist: Led+Zeppelin | Distance: 1.0\n"
     ]
    }
   ],
   "source": [
    "find_similar(artist=\"Queen\",\n",
    "             model=model,\n",
    "             index_artist=index_artist,\n",
    "             artist_index=artist_index,\n",
    "             n=10)"
   ]
  }
 ],
 "metadata": {
  "hide_input": false,
  "kernelspec": {
   "display_name": "Python 3",
   "language": "python",
   "name": "python3"
  },
  "language_info": {
   "codemirror_mode": {
    "name": "ipython",
    "version": 3
   },
   "file_extension": ".py",
   "mimetype": "text/x-python",
   "name": "python",
   "nbconvert_exporter": "python",
   "pygments_lexer": "ipython3",
   "version": "3.6.5"
  }
 },
 "nbformat": 4,
 "nbformat_minor": 2
}
